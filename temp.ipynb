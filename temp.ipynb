{
 "cells": [
  {
   "cell_type": "code",
   "execution_count": 7,
   "metadata": {},
   "outputs": [],
   "source": [
    "import os\n",
    "from pathlib import Path\n",
    "import logging"
   ]
  },
  {
   "cell_type": "code",
   "execution_count": 8,
   "metadata": {},
   "outputs": [],
   "source": [
    "logging.basicConfig(level=logging.INFO, format='[%(asctime)s]:%(message)s:')"
   ]
  },
  {
   "cell_type": "code",
   "execution_count": 9,
   "metadata": {},
   "outputs": [],
   "source": [
    "project_name = 'Text_summarizer'\n",
    "\n",
    "list_of_files = [\n",
    "    \".github/workflows/.gitkeep\",\n",
    "    f\"src/{project_name}/__init__.py\",\n",
    "    f\"src/{project_name}/conponents/__init__.py\",\n",
    "    f\"src/{project_name}/utils/__init__.py\",\n",
    "    f\"src/{project_name}/utils/common.py\",\n",
    "    f\"src/{project_name}/logging/__init__.py\",\n",
    "    f\"src/{project_name}/config/__init__.py\",\n",
    "    f\"src/{project_name}/config/configuration.py\",\n",
    "    f\"src/{project_name}/pipeline/__init__.py\",\n",
    "    f\"src/{project_name}/entity/__init__.py\",\n",
    "    f\"src/{project_name}/constants/__init__.py\",\n",
    "    \"config/config.yaml\",\n",
    "    \"params.yaml\",\n",
    "    \"app.py\",\n",
    "    \"main.py\",\n",
    "    \"Dockerfile\",\n",
    "    \"requirements.txt\",\n",
    "    \"setup.py\",\n",
    "    \"research/trials.ipynb\",\n",
    "\n",
    "]\n"
   ]
  },
  {
   "cell_type": "code",
   "execution_count": 11,
   "metadata": {},
   "outputs": [
    {
     "name": "stderr",
     "output_type": "stream",
     "text": [
      "[2024-11-05 19:55:02,801]:Creating directory:.github/workflows for the file .gitkeep:\n",
      "[2024-11-05 19:55:02,802]:Creating empty file: .github/workflows/.gitkeep:\n",
      "[2024-11-05 19:55:02,804]:Creating directory:src/Text_summarizer for the file __init__.py:\n",
      "[2024-11-05 19:55:02,805]:Creating empty file: src/Text_summarizer/__init__.py:\n",
      "[2024-11-05 19:55:02,806]:Creating directory:src/Text_summarizer/conponents for the file __init__.py:\n",
      "[2024-11-05 19:55:02,807]:Creating empty file: src/Text_summarizer/conponents/__init__.py:\n",
      "[2024-11-05 19:55:02,808]:Creating directory:src/Text_summarizer/utils for the file __init__.py:\n",
      "[2024-11-05 19:55:02,809]:Creating empty file: src/Text_summarizer/utils/__init__.py:\n",
      "[2024-11-05 19:55:02,810]:Creating directory:src/Text_summarizer/utils for the file common.py:\n",
      "[2024-11-05 19:55:02,811]:Creating empty file: src/Text_summarizer/utils/common.py:\n",
      "[2024-11-05 19:55:02,812]:Creating directory:src/Text_summarizer/logging for the file __init__.py:\n",
      "[2024-11-05 19:55:02,814]:Creating empty file: src/Text_summarizer/logging/__init__.py:\n",
      "[2024-11-05 19:55:02,815]:Creating directory:src/Text_summarizer/config for the file __init__.py:\n",
      "[2024-11-05 19:55:02,816]:Creating empty file: src/Text_summarizer/config/__init__.py:\n",
      "[2024-11-05 19:55:02,818]:Creating directory:src/Text_summarizer/config for the file configuration.py:\n",
      "[2024-11-05 19:55:02,823]:Creating empty file: src/Text_summarizer/config/configuration.py:\n",
      "[2024-11-05 19:55:02,826]:Creating directory:src/Text_summarizer/pipeline for the file __init__.py:\n",
      "[2024-11-05 19:55:02,829]:Creating empty file: src/Text_summarizer/pipeline/__init__.py:\n",
      "[2024-11-05 19:55:02,831]:Creating directory:src/Text_summarizer/entity for the file __init__.py:\n",
      "[2024-11-05 19:55:02,832]:Creating empty file: src/Text_summarizer/entity/__init__.py:\n",
      "[2024-11-05 19:55:02,834]:Creating directory:src/Text_summarizer/constants for the file __init__.py:\n",
      "[2024-11-05 19:55:02,836]:Creating empty file: src/Text_summarizer/constants/__init__.py:\n",
      "[2024-11-05 19:55:02,837]:Creating directory:config for the file config.yaml:\n",
      "[2024-11-05 19:55:02,838]:Creating empty file: config/config.yaml:\n",
      "[2024-11-05 19:55:02,840]:Creating empty file: params.yaml:\n",
      "[2024-11-05 19:55:02,843]:Creating empty file: app.py:\n",
      "[2024-11-05 19:55:02,845]:Creating empty file: main.py:\n",
      "[2024-11-05 19:55:02,846]:Creating empty file: Dockerfile:\n",
      "[2024-11-05 19:55:02,848]:Creating empty file: requirements.txt:\n",
      "[2024-11-05 19:55:02,850]:Creating empty file: setup.py:\n",
      "[2024-11-05 19:55:02,851]:Creating directory:research for the file trials.ipynb:\n",
      "[2024-11-05 19:55:02,851]:Creating empty file: research/trials.ipynb:\n"
     ]
    }
   ],
   "source": [
    "for filepath in list_of_files:\n",
    "    filepath = Path(filepath)\n",
    "    filedir, filename = os.path.split(filepath)\n",
    "\n",
    "    if filedir != \"\":\n",
    "        os.makedirs(filedir, exist_ok=True)\n",
    "        logging.info(f\"Creating directory:{filedir} for the file {filename}\")\n",
    "\n",
    "    \n",
    "    if (not os.path.exists(filepath)) or (os.path.getsize(filepath) == 0):\n",
    "        with open(filepath,'w') as f:\n",
    "            pass\n",
    "            logging.info(f\"Creating empty file: {filepath}\")\n",
    "\n",
    "\n",
    "    \n",
    "    else:\n",
    "        logging.info(f\"{filename} is already exists\")"
   ]
  },
  {
   "cell_type": "code",
   "execution_count": null,
   "metadata": {},
   "outputs": [],
   "source": []
  }
 ],
 "metadata": {
  "kernelspec": {
   "display_name": "myvenv",
   "language": "python",
   "name": "python3"
  },
  "language_info": {
   "codemirror_mode": {
    "name": "ipython",
    "version": 3
   },
   "file_extension": ".py",
   "mimetype": "text/x-python",
   "name": "python",
   "nbconvert_exporter": "python",
   "pygments_lexer": "ipython3",
   "version": "3.12.3"
  }
 },
 "nbformat": 4,
 "nbformat_minor": 2
}
